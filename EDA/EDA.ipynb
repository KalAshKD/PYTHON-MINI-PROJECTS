{
 "cells": [
  {
   "cell_type": "code",
   "execution_count": 4,
   "metadata": {},
   "outputs": [],
   "source": [
    "import numpy as np \n",
    "import pandas as pd \n",
    "import matplotlib.pyplot as plt \n",
    "import seaborn as sns\n",
    "from sklearn.model_selection import train_test_split\n",
    "from sklearn.linear_model import LogisticRegression\n",
    "from sklearn.metrics import accuracy_score\n",
    "from sklearn.metrics import confusion_matrix"
   ]
  },
  {
   "cell_type": "markdown",
   "metadata": {},
   "source": [
    "Three Steps For Exploratory Data Analysis                                    \n",
    "1.Getting know the data                                       \n",
    "2.Data Preprocessing(MISSING VALUES)                                 \n",
    "3.Cross Tables & Data Visulisation"
   ]
  },
  {
   "cell_type": "markdown",
   "metadata": {},
   "source": [
    "# Getting Know The Data"
   ]
  },
  {
   "cell_type": "code",
   "execution_count": 5,
   "metadata": {},
   "outputs": [
    {
     "name": "stdout",
     "output_type": "stream",
     "text": [
      "<class 'pandas.core.frame.DataFrame'>\n",
      "RangeIndex: 31978 entries, 0 to 31977\n",
      "Data columns (total 13 columns):\n",
      "age              31978 non-null int64\n",
      "JobType          31978 non-null object\n",
      "EdType           31978 non-null object\n",
      "maritalstatus    31978 non-null object\n",
      "occupation       31978 non-null object\n",
      "relationship     31978 non-null object\n",
      "race             31978 non-null object\n",
      "gender           31978 non-null object\n",
      "capitalgain      31978 non-null int64\n",
      "capitalloss      31978 non-null int64\n",
      "hoursperweek     31978 non-null int64\n",
      "nativecountry    31978 non-null object\n",
      "SalStat          31978 non-null object\n",
      "dtypes: int64(4), object(9)\n",
      "memory usage: 3.2+ MB\n",
      "None\n"
     ]
    }
   ],
   "source": [
    "df = pd.read_csv(\"income(1).csv\")\n",
    "main=df.copy(deep=True)\n",
    "print(main.info())"
   ]
  },
  {
   "cell_type": "code",
   "execution_count": 6,
   "metadata": {},
   "outputs": [
    {
     "name": "stdout",
     "output_type": "stream",
     "text": [
      "('Data without missing values \\n', age              0\n",
      "JobType          0\n",
      "EdType           0\n",
      "maritalstatus    0\n",
      "occupation       0\n",
      "relationship     0\n",
      "race             0\n",
      "gender           0\n",
      "capitalgain      0\n",
      "capitalloss      0\n",
      "hoursperweek     0\n",
      "nativecountry    0\n",
      "SalStat          0\n",
      "dtype: int64)\n"
     ]
    }
   ],
   "source": [
    "main.isnull()\n",
    "print(\"Data without missing values \\n\",main.isnull().sum())\n",
    "df = pd.read_csv(\"income(1).csv\",na_values=['?'])"
   ]
  },
  {
   "cell_type": "markdown",
   "metadata": {},
   "source": [
    "# 2.Data Preporcessing(Missing Value)"
   ]
  },
  {
   "cell_type": "code",
   "execution_count": 17,
   "metadata": {},
   "outputs": [
    {
     "name": "stdout",
     "output_type": "stream",
     "text": [
      "                age   capitalgain   capitalloss  hoursperweek\n",
      "count  31978.000000  31978.000000  31978.000000  31978.000000\n",
      "mean      38.579023   1064.360623     86.739352     40.417850\n",
      "std       13.662085   7298.596271    401.594301     12.345285\n",
      "min       17.000000      0.000000      0.000000      1.000000\n",
      "25%       28.000000      0.000000      0.000000     40.000000\n",
      "50%       37.000000      0.000000      0.000000     40.000000\n",
      "75%       48.000000      0.000000      0.000000     45.000000\n",
      "max       90.000000  99999.000000   4356.000000     99.000000\n"
     ]
    }
   ],
   "source": [
    "#summary of numerical variables\n",
    "summary_num = df.describe()\n",
    "print(summary_num)"
   ]
  },
  {
   "cell_type": "code",
   "execution_count": 18,
   "metadata": {},
   "outputs": [
    {
     "name": "stdout",
     "output_type": "stream",
     "text": [
      "         JobType    EdType        maritalstatus       occupation relationship  \\\n",
      "count      31978     31978                31978            31978        31978   \n",
      "unique         9        16                    7               15            6   \n",
      "top      Private   HS-grad   Married-civ-spouse   Prof-specialty      Husband   \n",
      "freq       22286     10368                14692             4038        12947   \n",
      "\n",
      "          race gender   nativecountry                        SalStat  \n",
      "count    31978  31978           31978                          31978  \n",
      "unique       5      2              41                              2  \n",
      "top      White   Male   United-States   less than or equal to 50,000  \n",
      "freq     27430  21370           29170                          24283  \n"
     ]
    }
   ],
   "source": [
    "#summary of categroail variables\n",
    "summary_cate = df.describe(include= 'object')\n",
    "print(summary_cate)"
   ]
  },
  {
   "cell_type": "code",
   "execution_count": 9,
   "metadata": {},
   "outputs": [
    {
     "data": {
      "text/plain": [
       " Prof-specialty       4038\n",
       " Craft-repair         4030\n",
       " Exec-managerial      3992\n",
       " Adm-clerical         3721\n",
       " Sales                3584\n",
       " Other-service        3212\n",
       " Machine-op-inspct    1966\n",
       " ?                    1816\n",
       " Transport-moving     1572\n",
       " Handlers-cleaners    1350\n",
       " Farming-fishing       989\n",
       " Tech-support          912\n",
       " Protective-serv       644\n",
       " Priv-house-serv       143\n",
       " Armed-Forces            9\n",
       "Name: occupation, dtype: int64"
      ]
     },
     "execution_count": 9,
     "metadata": {},
     "output_type": "execute_result"
    }
   ],
   "source": [
    "df['JobType'].value_counts()\n",
    "df['occupation'].value_counts()"
   ]
  },
  {
   "cell_type": "code",
   "execution_count": 10,
   "metadata": {},
   "outputs": [
    {
     "name": "stdout",
     "output_type": "stream",
     "text": [
      "[' ?' ' Federal-gov' ' Local-gov' ' Never-worked' ' Private'\n",
      " ' Self-emp-inc' ' Self-emp-not-inc' ' State-gov' ' Without-pay']\n",
      "[' ?' ' Adm-clerical' ' Armed-Forces' ' Craft-repair' ' Exec-managerial'\n",
      " ' Farming-fishing' ' Handlers-cleaners' ' Machine-op-inspct'\n",
      " ' Other-service' ' Priv-house-serv' ' Prof-specialty' ' Protective-serv'\n",
      " ' Sales' ' Tech-support' ' Transport-moving']\n"
     ]
    }
   ],
   "source": [
    "print(np.unique(df['JobType']))\n",
    "print(np.unique(df['occupation']))"
   ]
  },
  {
   "cell_type": "code",
   "execution_count": 11,
   "metadata": {},
   "outputs": [
    {
     "data": {
      "text/plain": [
       "Index([u'age', u'JobType', u'EdType', u'maritalstatus', u'occupation',\n",
       "       u'relationship', u'race', u'gender', u'capitalgain', u'capitalloss',\n",
       "       u'hoursperweek', u'nativecountry', u'SalStat'],\n",
       "      dtype='object')"
      ]
     },
     "execution_count": 11,
     "metadata": {},
     "output_type": "execute_result"
    }
   ],
   "source": [
    "df.isnull().sum()\n",
    "Missing = df[df.isnull().any(axis=1)]\n",
    "df2=df.dropna(axis=0)\n",
    "#Relationships between independent variables\n",
    "correlation=df2.corr()\n",
    "df2.columns"
   ]
  },
  {
   "cell_type": "code",
   "execution_count": 12,
   "metadata": {},
   "outputs": [
    {
     "name": "stdout",
     "output_type": "stream",
     "text": [
      "col_0       count\n",
      "gender           \n",
      " Female  0.331728\n",
      " Male    0.668272\n"
     ]
    }
   ],
   "source": [
    "gender=pd.crosstab(index= df2[\"gender\"],columns= 'count',normalize=True)\n",
    "print(gender)"
   ]
  },
  {
   "cell_type": "code",
   "execution_count": 13,
   "metadata": {},
   "outputs": [
    {
     "name": "stdout",
     "output_type": "stream",
     "text": [
      "col_0    salary\n",
      "gender         \n",
      " Female     1.0\n",
      " Male       1.0\n",
      "All         1.0\n"
     ]
    }
   ],
   "source": [
    "gender_salary= pd.crosstab(index= df2[\"gender\"],columns= ['salary'],margins=True,normalize='index')\n",
    "print(gender_salary)"
   ]
  },
  {
   "cell_type": "code",
   "execution_count": 14,
   "metadata": {},
   "outputs": [
    {
     "data": {
      "image/png": "[encoded data removed]",
      "text/plain": [
       "<matplotlib.figure.Figure at 0xefe8278>"
      ]
     },
     "metadata": {
      "needs_background": "light"
     },
     "output_type": "display_data"
    }
   ],
   "source": [
    "salary = sns.countplot(df2['SalStat'])"
   ]
  },
  {
   "cell_type": "code",
   "execution_count": 15,
   "metadata": {},
   "outputs": [
    {
     "data": {
      "text/plain": [
       "<matplotlib.axes._subplots.AxesSubplot at 0xf1b5cc0>"
      ]
     },
     "execution_count": 15,
     "metadata": {},
     "output_type": "execute_result"
    },
    {
     "data": {
      "image/png": "[encoded data removed]",
      "text/plain": [
       "<matplotlib.figure.Figure at 0xf4cee48>"
      ]
     },
     "metadata": {
      "needs_background": "light"
     },
     "output_type": "display_data"
    }
   ],
   "source": [
    "sns.distplot(df2['age'],bins=10,kde=False)"
   ]
  },
  {
   "cell_type": "code",
   "execution_count": 13,
   "metadata": {},
   "outputs": [
    {
     "data": {
      "text/plain": [
       "<matplotlib.axes._subplots.AxesSubplot at 0xfb0bf98>"
      ]
     },
     "execution_count": 13,
     "metadata": {},
     "output_type": "execute_result"
    },
    {
     "data": {
      "image/png": "[encoded data removed]",
      "text/plain": [
       "<matplotlib.figure.Figure at 0xfb009e8>"
      ]
     },
     "metadata": {
      "needs_background": "light"
     },
     "output_type": "display_data"
    }
   ],
   "source": [
    "sns.boxplot(\"SalStat\",\"age\",data=df2)"
   ]
  },
  {
   "cell_type": "code",
   "execution_count": 16,
   "metadata": {},
   "outputs": [
    {
     "data": {
      "text/plain": [
       "SalStat\n",
       " greater than 50,000             44\n",
       " less than or equal to 50,000    34\n",
       "Name: age, dtype: int64"
      ]
     },
     "execution_count": 16,
     "metadata": {},
     "output_type": "execute_result"
    }
   ],
   "source": [
    "df2.groupby('SalStat')['age'].median()"
   ]
  },
  {
   "cell_type": "markdown",
   "metadata": {},
   "source": [
    "## Building A Logistic Regression Model "
   ]
  },
  {
   "cell_type": "code",
   "execution_count": 21,
   "metadata": {},
   "outputs": [
    {
     "name": "stdout",
     "output_type": "stream",
     "text": [
      "       age            JobType         EdType           maritalstatus  \\\n",
      "0       45            Private        HS-grad                Divorced   \n",
      "1       24        Federal-gov        HS-grad           Never-married   \n",
      "2       44            Private   Some-college      Married-civ-spouse   \n",
      "3       27            Private            9th           Never-married   \n",
      "4       20            Private   Some-college           Never-married   \n",
      "5       44            Private        HS-grad                 Widowed   \n",
      "6       51            Private        HS-grad      Married-civ-spouse   \n",
      "7       20            Private        HS-grad      Married-civ-spouse   \n",
      "8       17                  ?           11th           Never-married   \n",
      "9       19            Private        HS-grad           Never-married   \n",
      "10      45       Self-emp-inc   Some-college      Married-civ-spouse   \n",
      "11      60            Private        HS-grad      Married-civ-spouse   \n",
      "12      44   Self-emp-not-inc        HS-grad      Married-civ-spouse   \n",
      "13      40            Private      Assoc-voc      Married-civ-spouse   \n",
      "14      30            Private        HS-grad      Married-civ-spouse   \n",
      "15      38            Private   Some-college      Married-civ-spouse   \n",
      "16      23            Private        HS-grad      Married-civ-spouse   \n",
      "17      32                  ?   Some-college      Married-civ-spouse   \n",
      "18      44            Private     Assoc-acdm           Never-married   \n",
      "19      54          Local-gov        HS-grad      Married-civ-spouse   \n",
      "20      32            Private      Bachelors      Married-civ-spouse   \n",
      "21      50            Private        1st-4th   Married-spouse-absent   \n",
      "22      24            Private      Bachelors           Never-married   \n",
      "23      37            Private        HS-grad      Married-civ-spouse   \n",
      "24      52            Private        HS-grad                Divorced   \n",
      "25      38            Private   Some-college      Married-civ-spouse   \n",
      "26      49            Private        Masters      Married-civ-spouse   \n",
      "27      30            Private      Bachelors      Married-civ-spouse   \n",
      "28      60            Private   Some-college           Never-married   \n",
      "29      22                  ?   Some-college           Never-married   \n",
      "...    ...                ...            ...                     ...   \n",
      "31948   24            Private        HS-grad           Never-married   \n",
      "31949   33            Private   Some-college                Divorced   \n",
      "31950   46            Private      Doctorate      Married-civ-spouse   \n",
      "31951   31          State-gov   Some-college      Married-civ-spouse   \n",
      "31952   35            Private           12th                Divorced   \n",
      "31953   52            Private        1st-4th      Married-civ-spouse   \n",
      "31954   30            Private           11th           Never-married   \n",
      "31955   34          Local-gov           11th               Separated   \n",
      "31956   34          State-gov        HS-grad                Divorced   \n",
      "31957   20            Private   Some-college      Married-civ-spouse   \n",
      "31958   17            Private           11th           Never-married   \n",
      "31959   32          State-gov      Bachelors      Married-civ-spouse   \n",
      "31960   29            Private        HS-grad                Divorced   \n",
      "31961   33            Private           10th           Never-married   \n",
      "31962   25            Private        HS-grad      Married-civ-spouse   \n",
      "31963   36        Federal-gov        Masters           Never-married   \n",
      "31964   23            Private        HS-grad           Never-married   \n",
      "31965   63       Self-emp-inc        HS-grad      Married-civ-spouse   \n",
      "31966   47          Local-gov        Masters      Married-civ-spouse   \n",
      "31967   80                  ?        HS-grad                 Widowed   \n",
      "31968   17                  ?           11th           Never-married   \n",
      "31969   40   Self-emp-not-inc      Bachelors   Married-spouse-absent   \n",
      "31970   30            Private     Assoc-acdm      Married-civ-spouse   \n",
      "31971   27            Private   Some-college           Never-married   \n",
      "31972   33            Private        Masters      Married-civ-spouse   \n",
      "31973   34          Local-gov        HS-grad           Never-married   \n",
      "31974   34          Local-gov   Some-college           Never-married   \n",
      "31975   23            Private   Some-college      Married-civ-spouse   \n",
      "31976   42          Local-gov   Some-college      Married-civ-spouse   \n",
      "31977   29            Private      Bachelors           Never-married   \n",
      "\n",
      "               occupation     relationship                 race   gender  \\\n",
      "0            Adm-clerical    Not-in-family                White   Female   \n",
      "1            Armed-Forces        Own-child                White     Male   \n",
      "2          Prof-specialty          Husband                White     Male   \n",
      "3            Craft-repair   Other-relative                White     Male   \n",
      "4                   Sales    Not-in-family                White     Male   \n",
      "5         Exec-managerial        Unmarried                Black   Female   \n",
      "6            Craft-repair          Husband   Amer-Indian-Eskimo     Male   \n",
      "7       Machine-op-inspct          Husband                White     Male   \n",
      "8                       ?        Own-child                White   Female   \n",
      "9       Machine-op-inspct        Own-child                Black   Female   \n",
      "10           Craft-repair          Husband                White     Male   \n",
      "11           Craft-repair          Husband                White     Male   \n",
      "12                  Sales             Wife                White   Female   \n",
      "13      Machine-op-inspct          Husband   Asian-Pac-Islander     Male   \n",
      "14        Exec-managerial             Wife                White   Female   \n",
      "15       Transport-moving          Husband                Black     Male   \n",
      "16       Transport-moving          Husband                White     Male   \n",
      "17                      ?          Husband                White     Male   \n",
      "18        Farming-fishing        Own-child                White     Male   \n",
      "19       Transport-moving          Husband                Black     Male   \n",
      "20         Prof-specialty          Husband                White     Male   \n",
      "21           Craft-repair        Unmarried                White     Male   \n",
      "22           Tech-support    Not-in-family                White   Female   \n",
      "23           Adm-clerical             Wife                White   Female   \n",
      "24       Transport-moving        Unmarried                White     Male   \n",
      "25       Transport-moving          Husband                White     Male   \n",
      "26        Exec-managerial          Husband                White     Male   \n",
      "27           Tech-support             Wife                White   Female   \n",
      "28         Prof-specialty        Unmarried                White     Male   \n",
      "29                      ?        Own-child                White     Male   \n",
      "...                   ...              ...                  ...      ...   \n",
      "31948   Handlers-cleaners        Unmarried                Black   Female   \n",
      "31949     Exec-managerial        Unmarried                White   Female   \n",
      "31950     Exec-managerial          Husband                White     Male   \n",
      "31951   Machine-op-inspct          Husband                White     Male   \n",
      "31952        Craft-repair    Not-in-family                White     Male   \n",
      "31953   Machine-op-inspct          Husband                White     Male   \n",
      "31954       Other-service        Own-child                White   Female   \n",
      "31955   Machine-op-inspct    Not-in-family                Black     Male   \n",
      "31956    Transport-moving        Unmarried                White   Female   \n",
      "31957               Sales          Husband                White     Male   \n",
      "31958   Handlers-cleaners        Own-child                White     Male   \n",
      "31959     Exec-managerial             Wife                White   Female   \n",
      "31960     Farming-fishing    Not-in-family                White     Male   \n",
      "31961        Craft-repair        Unmarried                White   Female   \n",
      "31962    Transport-moving          Husband                White     Male   \n",
      "31963      Prof-specialty    Not-in-family                White     Male   \n",
      "31964   Handlers-cleaners    Not-in-family                White     Male   \n",
      "31965     Exec-managerial          Husband                White     Male   \n",
      "31966      Prof-specialty          Husband                White     Male   \n",
      "31967                   ?    Not-in-family                White     Male   \n",
      "31968                   ?        Own-child                White     Male   \n",
      "31969      Prof-specialty    Not-in-family                White   Female   \n",
      "31970       Other-service             Wife                White   Female   \n",
      "31971        Craft-repair        Own-child   Asian-Pac-Islander     Male   \n",
      "31972      Prof-specialty          Husband                White     Male   \n",
      "31973     Farming-fishing    Not-in-family                Black     Male   \n",
      "31974     Protective-serv    Not-in-family                White   Female   \n",
      "31975        Adm-clerical          Husband                White     Male   \n",
      "31976        Adm-clerical             Wife                White   Female   \n",
      "31977      Prof-specialty    Not-in-family                White     Male   \n",
      "\n",
      "       capitalgain  capitalloss  hoursperweek        nativecountry  SalStat  \n",
      "0                0            0            28        United-States      NaN  \n",
      "1                0            0            40        United-States      NaN  \n",
      "2                0            0            40        United-States      NaN  \n",
      "3                0            0            40               Mexico      NaN  \n",
      "4                0            0            35        United-States      NaN  \n",
      "5                0            0            40        United-States      NaN  \n",
      "6                0            0            40        United-States      NaN  \n",
      "7                0            0            40        United-States      NaN  \n",
      "8                0            0             5        United-States      NaN  \n",
      "9                0            0            40        United-States      NaN  \n",
      "10               0            0            55        United-States      NaN  \n",
      "11               0            0            40        United-States      NaN  \n",
      "12               0            0            40        United-States      NaN  \n",
      "13               0            0            40        United-States      NaN  \n",
      "14               0            0            40        United-States      NaN  \n",
      "15               0            0            50        United-States      NaN  \n",
      "16               0            0            60        United-States      NaN  \n",
      "17               0            0            40        United-States      NaN  \n",
      "18               0            0            40        United-States      NaN  \n",
      "19               0            0            40        United-States      NaN  \n",
      "20               0            0            50        United-States      NaN  \n",
      "21               0            0            40        United-States      NaN  \n",
      "22               0            0            20        United-States      NaN  \n",
      "23               0            0            60        United-States      NaN  \n",
      "24               0            0            40        United-States      NaN  \n",
      "25               0            0            40        United-States      NaN  \n",
      "26               0         1977            45        United-States      NaN  \n",
      "27               0            0            16        United-States      NaN  \n",
      "28               0            0            40        United-States      NaN  \n",
      "29               0            0            40        United-States      NaN  \n",
      "...            ...          ...           ...                  ...      ...  \n",
      "31948            0            0            40        United-States      NaN  \n",
      "31949            0            0            40        United-States      NaN  \n",
      "31950        15024            0            60        United-States      NaN  \n",
      "31951            0            0            40        United-States      NaN  \n",
      "31952            0            0            50        United-States      NaN  \n",
      "31953            0            0            40               Mexico      NaN  \n",
      "31954            0            0            19        United-States      NaN  \n",
      "31955            0            0            40        United-States      NaN  \n",
      "31956            0            0            40        United-States      NaN  \n",
      "31957            0            0            30        United-States      NaN  \n",
      "31958         2176            0            18        United-States      NaN  \n",
      "31959            0            0            40        United-States      NaN  \n",
      "31960            0            0            40        United-States      NaN  \n",
      "31961            0            0            35        United-States      NaN  \n",
      "31962            0            0            60        United-States      NaN  \n",
      "31963            0         1408            40        United-States      NaN  \n",
      "31964            0            0            72   Dominican-Republic      NaN  \n",
      "31965            0            0            40        United-States      NaN  \n",
      "31966            0            0            40        United-States      NaN  \n",
      "31967            0            0            24        United-States      NaN  \n",
      "31968            0            0            40        United-States      NaN  \n",
      "31969         2174            0            40        United-States      NaN  \n",
      "31970            0            0            25        United-States      NaN  \n",
      "31971            0         1980            40          Philippines      NaN  \n",
      "31972            0            0            50        United-States      NaN  \n",
      "31973          594            0            60        United-States      NaN  \n",
      "31974            0            0            40        United-States      NaN  \n",
      "31975            0            0            40        United-States      NaN  \n",
      "31976            0            0            40        United-States      NaN  \n",
      "31977            0            0            40        United-States      NaN  \n",
      "\n",
      "[31978 rows x 13 columns]\n"
     ]
    }
   ],
   "source": [
    "df = pd.read_csv(\"income(1).csv\",na_values=['?'])\n",
    "df2 = df.copy()\n",
    "df2['SalStat']=df2['SalStat'].map({\"Less than or eqal to 50000\":0,\"Greater Than or equal to 500000\":1})\n",
    "print(df2)"
   ]
  },
  {
   "cell_type": "code",
   "execution_count": null,
   "metadata": {},
   "outputs": [],
   "source": []
  }
 ],
 "metadata": {
  "kernelspec": {
   "display_name": "Python 2",
   "language": "python",
   "name": "python2"
  },
  "language_info": {
   "codemirror_mode": {
    "name": "ipython",
    "version": 2
   },
   "file_extension": ".py",
   "mimetype": "text/x-python",
   "name": "python",
   "nbconvert_exporter": "python",
   "pygments_lexer": "ipython2",
   "version": "2.7.14"
  }
 },
 "nbformat": 4,
 "nbformat_minor": 2
}
