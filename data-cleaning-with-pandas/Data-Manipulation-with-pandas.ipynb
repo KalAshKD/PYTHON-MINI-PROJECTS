{
 "cells": [
  {
   "cell_type": "code",
   "execution_count": 1,
   "metadata": {},
   "outputs": [],
   "source": [
    "import pandas as pd"
   ]
  },
  {
   "cell_type": "code",
   "execution_count": 3,
   "metadata": {},
   "outputs": [
    {
     "name": "stdout",
     "output_type": "stream",
     "text": [
      "0.22.0\n"
     ]
    }
   ],
   "source": [
    "print(pd.__version__)"
   ]
  },
  {
   "cell_type": "markdown",
   "metadata": {},
   "source": [
    "## Load Files Into a DataFrame\n",
    "dataframeobjectname=pd.read_csv(name_of_file)"
   ]
  },
  {
   "cell_type": "code",
   "execution_count": 4,
   "metadata": {},
   "outputs": [],
   "source": [
    "df1 = pd.read_csv('iris.csv')\n",
    "DF=pd.DataFrame(df1)"
   ]
  },
  {
   "cell_type": "code",
   "execution_count": 3,
   "metadata": {},
   "outputs": [
    {
     "data": {
      "text/plain": [
       "60"
      ]
     },
     "execution_count": 3,
     "metadata": {},
     "output_type": "execute_result"
    }
   ],
   "source": [
    "#returns max rows 60, if more than that it returns first or last 5rows\n",
    "pd.options.display.max_rows"
   ]
  },
  {
   "cell_type": "code",
   "execution_count": 4,
   "metadata": {},
   "outputs": [
    {
     "data": {
      "text/html": [
       "<div>\n",
       "<style scoped>\n",
       "    .dataframe tbody tr th:only-of-type {\n",
       "        vertical-align: middle;\n",
       "    }\n",
       "\n",
       "    .dataframe tbody tr th {\n",
       "        vertical-align: top;\n",
       "    }\n",
       "\n",
       "    .dataframe thead th {\n",
       "        text-align: right;\n",
       "    }\n",
       "</style>\n",
       "<table border=\"1\" class=\"dataframe\">\n",
       "  <thead>\n",
       "    <tr style=\"text-align: right;\">\n",
       "      <th></th>\n",
       "      <th>sepal.length</th>\n",
       "      <th>sepal.width</th>\n",
       "      <th>petal.length</th>\n",
       "      <th>petal.width</th>\n",
       "      <th>variety</th>\n",
       "    </tr>\n",
       "  </thead>\n",
       "  <tbody>\n",
       "    <tr>\n",
       "      <th>0</th>\n",
       "      <td>5.1</td>\n",
       "      <td>3.5</td>\n",
       "      <td>1.4</td>\n",
       "      <td>0.2</td>\n",
       "      <td>Setosa</td>\n",
       "    </tr>\n",
       "    <tr>\n",
       "      <th>1</th>\n",
       "      <td>4.9</td>\n",
       "      <td>3.0</td>\n",
       "      <td>1.4</td>\n",
       "      <td>0.2</td>\n",
       "      <td>Setosa</td>\n",
       "    </tr>\n",
       "    <tr>\n",
       "      <th>2</th>\n",
       "      <td>4.7</td>\n",
       "      <td>3.2</td>\n",
       "      <td>1.3</td>\n",
       "      <td>0.2</td>\n",
       "      <td>Setosa</td>\n",
       "    </tr>\n",
       "    <tr>\n",
       "      <th>3</th>\n",
       "      <td>4.6</td>\n",
       "      <td>3.1</td>\n",
       "      <td>1.5</td>\n",
       "      <td>0.2</td>\n",
       "      <td>Setosa</td>\n",
       "    </tr>\n",
       "    <tr>\n",
       "      <th>4</th>\n",
       "      <td>5.0</td>\n",
       "      <td>3.6</td>\n",
       "      <td>1.4</td>\n",
       "      <td>0.2</td>\n",
       "      <td>Setosa</td>\n",
       "    </tr>\n",
       "  </tbody>\n",
       "</table>\n",
       "</div>"
      ],
      "text/plain": [
       "   sepal.length  sepal.width  petal.length  petal.width variety\n",
       "0           5.1          3.5           1.4          0.2  Setosa\n",
       "1           4.9          3.0           1.4          0.2  Setosa\n",
       "2           4.7          3.2           1.3          0.2  Setosa\n",
       "3           4.6          3.1           1.5          0.2  Setosa\n",
       "4           5.0          3.6           1.4          0.2  Setosa"
      ]
     },
     "execution_count": 4,
     "metadata": {},
     "output_type": "execute_result"
    }
   ],
   "source": [
    "DF.head()"
   ]
  },
  {
   "cell_type": "code",
   "execution_count": 5,
   "metadata": {},
   "outputs": [
    {
     "data": {
      "text/html": [
       "<div>\n",
       "<style scoped>\n",
       "    .dataframe tbody tr th:only-of-type {\n",
       "        vertical-align: middle;\n",
       "    }\n",
       "\n",
       "    .dataframe tbody tr th {\n",
       "        vertical-align: top;\n",
       "    }\n",
       "\n",
       "    .dataframe thead th {\n",
       "        text-align: right;\n",
       "    }\n",
       "</style>\n",
       "<table border=\"1\" class=\"dataframe\">\n",
       "  <thead>\n",
       "    <tr style=\"text-align: right;\">\n",
       "      <th></th>\n",
       "      <th>sepal.length</th>\n",
       "      <th>sepal.width</th>\n",
       "      <th>petal.length</th>\n",
       "      <th>petal.width</th>\n",
       "      <th>variety</th>\n",
       "    </tr>\n",
       "  </thead>\n",
       "  <tbody>\n",
       "    <tr>\n",
       "      <th>145</th>\n",
       "      <td>6.7</td>\n",
       "      <td>3.0</td>\n",
       "      <td>5.2</td>\n",
       "      <td>2.3</td>\n",
       "      <td>Virginica</td>\n",
       "    </tr>\n",
       "    <tr>\n",
       "      <th>146</th>\n",
       "      <td>6.3</td>\n",
       "      <td>2.5</td>\n",
       "      <td>5.0</td>\n",
       "      <td>1.9</td>\n",
       "      <td>Virginica</td>\n",
       "    </tr>\n",
       "    <tr>\n",
       "      <th>147</th>\n",
       "      <td>6.5</td>\n",
       "      <td>3.0</td>\n",
       "      <td>5.2</td>\n",
       "      <td>2.0</td>\n",
       "      <td>Virginica</td>\n",
       "    </tr>\n",
       "    <tr>\n",
       "      <th>148</th>\n",
       "      <td>6.2</td>\n",
       "      <td>3.4</td>\n",
       "      <td>5.4</td>\n",
       "      <td>2.3</td>\n",
       "      <td>Virginica</td>\n",
       "    </tr>\n",
       "    <tr>\n",
       "      <th>149</th>\n",
       "      <td>5.9</td>\n",
       "      <td>3.0</td>\n",
       "      <td>5.1</td>\n",
       "      <td>1.8</td>\n",
       "      <td>Virginica</td>\n",
       "    </tr>\n",
       "  </tbody>\n",
       "</table>\n",
       "</div>"
      ],
      "text/plain": [
       "     sepal.length  sepal.width  petal.length  petal.width    variety\n",
       "145           6.7          3.0           5.2          2.3  Virginica\n",
       "146           6.3          2.5           5.0          1.9  Virginica\n",
       "147           6.5          3.0           5.2          2.0  Virginica\n",
       "148           6.2          3.4           5.4          2.3  Virginica\n",
       "149           5.9          3.0           5.1          1.8  Virginica"
      ]
     },
     "execution_count": 5,
     "metadata": {},
     "output_type": "execute_result"
    }
   ],
   "source": [
    "DF.tail()"
   ]
  },
  {
   "cell_type": "code",
   "execution_count": 6,
   "metadata": {},
   "outputs": [
    {
     "name": "stdout",
     "output_type": "stream",
     "text": [
      "<class 'pandas.core.frame.DataFrame'>\n",
      "RangeIndex: 150 entries, 0 to 149\n",
      "Data columns (total 5 columns):\n",
      "sepal.length    150 non-null float64\n",
      "sepal.width     150 non-null float64\n",
      "petal.length    150 non-null float64\n",
      "petal.width     150 non-null float64\n",
      "variety         150 non-null object\n",
      "dtypes: float64(4), object(1)\n",
      "memory usage: 5.9+ KB\n"
     ]
    }
   ],
   "source": [
    "DF.info()"
   ]
  },
  {
   "cell_type": "markdown",
   "metadata": {},
   "source": [
    "# DATA CLEANING\n",
    "\n",
    "## Data cleaning means fixing bad data in your data set.\n",
    "\n",
    "## Bad data could be:\n",
    "\n",
    "Empty cells\n",
    "\n",
    "Data in wrong format\n",
    "\n",
    "Wrong data\n",
    "\n",
    "Duplicates"
   ]
  },
  {
   "cell_type": "markdown",
   "metadata": {},
   "source": [
    "## Cleaning Empty Cells\n"
   ]
  },
  {
   "cell_type": "markdown",
   "metadata": {},
   "source": [
    "## 1st way remove rows that contains empty cells\n",
    "using *.dropna()*"
   ]
  },
  {
   "cell_type": "code",
   "execution_count": 7,
   "metadata": {},
   "outputs": [],
   "source": [
    "Data=DF.dropna()# This will  return the new dataframe  not changes the original dataframe "
   ]
  },
  {
   "cell_type": "code",
   "execution_count": 8,
   "metadata": {},
   "outputs": [],
   "source": [
    "# But if we need to change the Original DataFrame then use inplace=True\n",
    "Data.dropna(inplace=True)#this will remove null rows from original dataframe "
   ]
  },
  {
   "cell_type": "markdown",
   "metadata": {},
   "source": [
    "## 2nd Way\n",
    "## Replace null cells or values to insert new values\n",
    "## can be done with fillna()"
   ]
  },
  {
   "cell_type": "code",
   "execution_count": 9,
   "metadata": {},
   "outputs": [
    {
     "name": "stdout",
     "output_type": "stream",
     "text": [
      "None\n"
     ]
    }
   ],
   "source": [
    "Replace=Data.fillna(130,inplace=True)\n",
    "print(Replace)"
   ]
  },
  {
   "cell_type": "markdown",
   "metadata": {},
   "source": [
    "## 3rd Way by Calculating Mean , mode , median of a column\n",
    "Synatx::\n",
    "*var_name=dataframe_name[\"col_name].mean()*\n",
    "\n",
    "*dataframe_name[\"Col_name\"].fillna(var_name,inplace)*\n",
    "\n",
    "Same for median and modewith 0"
   ]
  },
  {
   "cell_type": "code",
   "execution_count": 10,
   "metadata": {},
   "outputs": [],
   "source": [
    "x = DF[\"petal.length\"].mean()\n",
    "\n",
    "DF[\"petal.length\"].fillna(x, inplace = True)"
   ]
  },
  {
   "cell_type": "markdown",
   "metadata": {},
   "source": [
    "# Wrong Data Format \n",
    "## 1.removing rows can be done by dropna() \n",
    "## 2. Convert Cells in Columns"
   ]
  },
  {
   "cell_type": "markdown",
   "metadata": {},
   "source": [
    "# Remove the duplicates \n",
    "## dataframe_name.duplicated() can find duplicate values and return a boolean value\n",
    "## and df_name.drop_duplicates()method can remove the duplicat values"
   ]
  },
  {
   "cell_type": "code",
   "execution_count": 6,
   "metadata": {},
   "outputs": [
    {
     "data": {
      "text/plain": [
       "0      False\n",
       "1      False\n",
       "2      False\n",
       "3      False\n",
       "4      False\n",
       "5      False\n",
       "6      False\n",
       "7      False\n",
       "8      False\n",
       "9      False\n",
       "10     False\n",
       "11     False\n",
       "12     False\n",
       "13     False\n",
       "14     False\n",
       "15     False\n",
       "16     False\n",
       "17     False\n",
       "18     False\n",
       "19     False\n",
       "20     False\n",
       "21     False\n",
       "22     False\n",
       "23     False\n",
       "24     False\n",
       "25     False\n",
       "26     False\n",
       "27     False\n",
       "28     False\n",
       "29     False\n",
       "       ...  \n",
       "120    False\n",
       "121    False\n",
       "122    False\n",
       "123    False\n",
       "124    False\n",
       "125    False\n",
       "126    False\n",
       "127    False\n",
       "128    False\n",
       "129    False\n",
       "130    False\n",
       "131    False\n",
       "132    False\n",
       "133    False\n",
       "134    False\n",
       "135    False\n",
       "136    False\n",
       "137    False\n",
       "138    False\n",
       "139    False\n",
       "140    False\n",
       "141    False\n",
       "142     True\n",
       "143    False\n",
       "144    False\n",
       "145    False\n",
       "146    False\n",
       "147    False\n",
       "148    False\n",
       "149    False\n",
       "Length: 150, dtype: bool"
      ]
     },
     "execution_count": 6,
     "metadata": {},
     "output_type": "execute_result"
    }
   ],
   "source": [
    "DF.duplicated()\n"
   ]
  },
  {
   "cell_type": "code",
   "execution_count": 7,
   "metadata": {},
   "outputs": [
    {
     "data": {
      "text/html": [
       "<div>\n",
       "<style scoped>\n",
       "    .dataframe tbody tr th:only-of-type {\n",
       "        vertical-align: middle;\n",
       "    }\n",
       "\n",
       "    .dataframe tbody tr th {\n",
       "        vertical-align: top;\n",
       "    }\n",
       "\n",
       "    .dataframe thead th {\n",
       "        text-align: right;\n",
       "    }\n",
       "</style>\n",
       "<table border=\"1\" class=\"dataframe\">\n",
       "  <thead>\n",
       "    <tr style=\"text-align: right;\">\n",
       "      <th></th>\n",
       "      <th>sepal.length</th>\n",
       "      <th>sepal.width</th>\n",
       "      <th>petal.length</th>\n",
       "      <th>petal.width</th>\n",
       "      <th>variety</th>\n",
       "    </tr>\n",
       "  </thead>\n",
       "  <tbody>\n",
       "    <tr>\n",
       "      <th>0</th>\n",
       "      <td>5.1</td>\n",
       "      <td>3.5</td>\n",
       "      <td>1.4</td>\n",
       "      <td>0.2</td>\n",
       "      <td>Setosa</td>\n",
       "    </tr>\n",
       "    <tr>\n",
       "      <th>1</th>\n",
       "      <td>4.9</td>\n",
       "      <td>3.0</td>\n",
       "      <td>1.4</td>\n",
       "      <td>0.2</td>\n",
       "      <td>Setosa</td>\n",
       "    </tr>\n",
       "    <tr>\n",
       "      <th>2</th>\n",
       "      <td>4.7</td>\n",
       "      <td>3.2</td>\n",
       "      <td>1.3</td>\n",
       "      <td>0.2</td>\n",
       "      <td>Setosa</td>\n",
       "    </tr>\n",
       "    <tr>\n",
       "      <th>3</th>\n",
       "      <td>4.6</td>\n",
       "      <td>3.1</td>\n",
       "      <td>1.5</td>\n",
       "      <td>0.2</td>\n",
       "      <td>Setosa</td>\n",
       "    </tr>\n",
       "    <tr>\n",
       "      <th>4</th>\n",
       "      <td>5.0</td>\n",
       "      <td>3.6</td>\n",
       "      <td>1.4</td>\n",
       "      <td>0.2</td>\n",
       "      <td>Setosa</td>\n",
       "    </tr>\n",
       "    <tr>\n",
       "      <th>5</th>\n",
       "      <td>5.4</td>\n",
       "      <td>3.9</td>\n",
       "      <td>1.7</td>\n",
       "      <td>0.4</td>\n",
       "      <td>Setosa</td>\n",
       "    </tr>\n",
       "    <tr>\n",
       "      <th>6</th>\n",
       "      <td>4.6</td>\n",
       "      <td>3.4</td>\n",
       "      <td>1.4</td>\n",
       "      <td>0.3</td>\n",
       "      <td>Setosa</td>\n",
       "    </tr>\n",
       "    <tr>\n",
       "      <th>7</th>\n",
       "      <td>5.0</td>\n",
       "      <td>3.4</td>\n",
       "      <td>1.5</td>\n",
       "      <td>0.2</td>\n",
       "      <td>Setosa</td>\n",
       "    </tr>\n",
       "    <tr>\n",
       "      <th>8</th>\n",
       "      <td>4.4</td>\n",
       "      <td>2.9</td>\n",
       "      <td>1.4</td>\n",
       "      <td>0.2</td>\n",
       "      <td>Setosa</td>\n",
       "    </tr>\n",
       "    <tr>\n",
       "      <th>9</th>\n",
       "      <td>4.9</td>\n",
       "      <td>3.1</td>\n",
       "      <td>1.5</td>\n",
       "      <td>0.1</td>\n",
       "      <td>Setosa</td>\n",
       "    </tr>\n",
       "    <tr>\n",
       "      <th>10</th>\n",
       "      <td>5.4</td>\n",
       "      <td>3.7</td>\n",
       "      <td>1.5</td>\n",
       "      <td>0.2</td>\n",
       "      <td>Setosa</td>\n",
       "    </tr>\n",
       "    <tr>\n",
       "      <th>11</th>\n",
       "      <td>4.8</td>\n",
       "      <td>3.4</td>\n",
       "      <td>1.6</td>\n",
       "      <td>0.2</td>\n",
       "      <td>Setosa</td>\n",
       "    </tr>\n",
       "    <tr>\n",
       "      <th>12</th>\n",
       "      <td>4.8</td>\n",
       "      <td>3.0</td>\n",
       "      <td>1.4</td>\n",
       "      <td>0.1</td>\n",
       "      <td>Setosa</td>\n",
       "    </tr>\n",
       "    <tr>\n",
       "      <th>13</th>\n",
       "      <td>4.3</td>\n",
       "      <td>3.0</td>\n",
       "      <td>1.1</td>\n",
       "      <td>0.1</td>\n",
       "      <td>Setosa</td>\n",
       "    </tr>\n",
       "    <tr>\n",
       "      <th>14</th>\n",
       "      <td>5.8</td>\n",
       "      <td>4.0</td>\n",
       "      <td>1.2</td>\n",
       "      <td>0.2</td>\n",
       "      <td>Setosa</td>\n",
       "    </tr>\n",
       "    <tr>\n",
       "      <th>15</th>\n",
       "      <td>5.7</td>\n",
       "      <td>4.4</td>\n",
       "      <td>1.5</td>\n",
       "      <td>0.4</td>\n",
       "      <td>Setosa</td>\n",
       "    </tr>\n",
       "    <tr>\n",
       "      <th>16</th>\n",
       "      <td>5.4</td>\n",
       "      <td>3.9</td>\n",
       "      <td>1.3</td>\n",
       "      <td>0.4</td>\n",
       "      <td>Setosa</td>\n",
       "    </tr>\n",
       "    <tr>\n",
       "      <th>17</th>\n",
       "      <td>5.1</td>\n",
       "      <td>3.5</td>\n",
       "      <td>1.4</td>\n",
       "      <td>0.3</td>\n",
       "      <td>Setosa</td>\n",
       "    </tr>\n",
       "    <tr>\n",
       "      <th>18</th>\n",
       "      <td>5.7</td>\n",
       "      <td>3.8</td>\n",
       "      <td>1.7</td>\n",
       "      <td>0.3</td>\n",
       "      <td>Setosa</td>\n",
       "    </tr>\n",
       "    <tr>\n",
       "      <th>19</th>\n",
       "      <td>5.1</td>\n",
       "      <td>3.8</td>\n",
       "      <td>1.5</td>\n",
       "      <td>0.3</td>\n",
       "      <td>Setosa</td>\n",
       "    </tr>\n",
       "    <tr>\n",
       "      <th>20</th>\n",
       "      <td>5.4</td>\n",
       "      <td>3.4</td>\n",
       "      <td>1.7</td>\n",
       "      <td>0.2</td>\n",
       "      <td>Setosa</td>\n",
       "    </tr>\n",
       "    <tr>\n",
       "      <th>21</th>\n",
       "      <td>5.1</td>\n",
       "      <td>3.7</td>\n",
       "      <td>1.5</td>\n",
       "      <td>0.4</td>\n",
       "      <td>Setosa</td>\n",
       "    </tr>\n",
       "    <tr>\n",
       "      <th>22</th>\n",
       "      <td>4.6</td>\n",
       "      <td>3.6</td>\n",
       "      <td>1.0</td>\n",
       "      <td>0.2</td>\n",
       "      <td>Setosa</td>\n",
       "    </tr>\n",
       "    <tr>\n",
       "      <th>23</th>\n",
       "      <td>5.1</td>\n",
       "      <td>3.3</td>\n",
       "      <td>1.7</td>\n",
       "      <td>0.5</td>\n",
       "      <td>Setosa</td>\n",
       "    </tr>\n",
       "    <tr>\n",
       "      <th>24</th>\n",
       "      <td>4.8</td>\n",
       "      <td>3.4</td>\n",
       "      <td>1.9</td>\n",
       "      <td>0.2</td>\n",
       "      <td>Setosa</td>\n",
       "    </tr>\n",
       "    <tr>\n",
       "      <th>25</th>\n",
       "      <td>5.0</td>\n",
       "      <td>3.0</td>\n",
       "      <td>1.6</td>\n",
       "      <td>0.2</td>\n",
       "      <td>Setosa</td>\n",
       "    </tr>\n",
       "    <tr>\n",
       "      <th>26</th>\n",
       "      <td>5.0</td>\n",
       "      <td>3.4</td>\n",
       "      <td>1.6</td>\n",
       "      <td>0.4</td>\n",
       "      <td>Setosa</td>\n",
       "    </tr>\n",
       "    <tr>\n",
       "      <th>27</th>\n",
       "      <td>5.2</td>\n",
       "      <td>3.5</td>\n",
       "      <td>1.5</td>\n",
       "      <td>0.2</td>\n",
       "      <td>Setosa</td>\n",
       "    </tr>\n",
       "    <tr>\n",
       "      <th>28</th>\n",
       "      <td>5.2</td>\n",
       "      <td>3.4</td>\n",
       "      <td>1.4</td>\n",
       "      <td>0.2</td>\n",
       "      <td>Setosa</td>\n",
       "    </tr>\n",
       "    <tr>\n",
       "      <th>29</th>\n",
       "      <td>4.7</td>\n",
       "      <td>3.2</td>\n",
       "      <td>1.6</td>\n",
       "      <td>0.2</td>\n",
       "      <td>Setosa</td>\n",
       "    </tr>\n",
       "    <tr>\n",
       "      <th>...</th>\n",
       "      <td>...</td>\n",
       "      <td>...</td>\n",
       "      <td>...</td>\n",
       "      <td>...</td>\n",
       "      <td>...</td>\n",
       "    </tr>\n",
       "    <tr>\n",
       "      <th>119</th>\n",
       "      <td>6.0</td>\n",
       "      <td>2.2</td>\n",
       "      <td>5.0</td>\n",
       "      <td>1.5</td>\n",
       "      <td>Virginica</td>\n",
       "    </tr>\n",
       "    <tr>\n",
       "      <th>120</th>\n",
       "      <td>6.9</td>\n",
       "      <td>3.2</td>\n",
       "      <td>5.7</td>\n",
       "      <td>2.3</td>\n",
       "      <td>Virginica</td>\n",
       "    </tr>\n",
       "    <tr>\n",
       "      <th>121</th>\n",
       "      <td>5.6</td>\n",
       "      <td>2.8</td>\n",
       "      <td>4.9</td>\n",
       "      <td>2.0</td>\n",
       "      <td>Virginica</td>\n",
       "    </tr>\n",
       "    <tr>\n",
       "      <th>122</th>\n",
       "      <td>7.7</td>\n",
       "      <td>2.8</td>\n",
       "      <td>6.7</td>\n",
       "      <td>2.0</td>\n",
       "      <td>Virginica</td>\n",
       "    </tr>\n",
       "    <tr>\n",
       "      <th>123</th>\n",
       "      <td>6.3</td>\n",
       "      <td>2.7</td>\n",
       "      <td>4.9</td>\n",
       "      <td>1.8</td>\n",
       "      <td>Virginica</td>\n",
       "    </tr>\n",
       "    <tr>\n",
       "      <th>124</th>\n",
       "      <td>6.7</td>\n",
       "      <td>3.3</td>\n",
       "      <td>5.7</td>\n",
       "      <td>2.1</td>\n",
       "      <td>Virginica</td>\n",
       "    </tr>\n",
       "    <tr>\n",
       "      <th>125</th>\n",
       "      <td>7.2</td>\n",
       "      <td>3.2</td>\n",
       "      <td>6.0</td>\n",
       "      <td>1.8</td>\n",
       "      <td>Virginica</td>\n",
       "    </tr>\n",
       "    <tr>\n",
       "      <th>126</th>\n",
       "      <td>6.2</td>\n",
       "      <td>2.8</td>\n",
       "      <td>4.8</td>\n",
       "      <td>1.8</td>\n",
       "      <td>Virginica</td>\n",
       "    </tr>\n",
       "    <tr>\n",
       "      <th>127</th>\n",
       "      <td>6.1</td>\n",
       "      <td>3.0</td>\n",
       "      <td>4.9</td>\n",
       "      <td>1.8</td>\n",
       "      <td>Virginica</td>\n",
       "    </tr>\n",
       "    <tr>\n",
       "      <th>128</th>\n",
       "      <td>6.4</td>\n",
       "      <td>2.8</td>\n",
       "      <td>5.6</td>\n",
       "      <td>2.1</td>\n",
       "      <td>Virginica</td>\n",
       "    </tr>\n",
       "    <tr>\n",
       "      <th>129</th>\n",
       "      <td>7.2</td>\n",
       "      <td>3.0</td>\n",
       "      <td>5.8</td>\n",
       "      <td>1.6</td>\n",
       "      <td>Virginica</td>\n",
       "    </tr>\n",
       "    <tr>\n",
       "      <th>130</th>\n",
       "      <td>7.4</td>\n",
       "      <td>2.8</td>\n",
       "      <td>6.1</td>\n",
       "      <td>1.9</td>\n",
       "      <td>Virginica</td>\n",
       "    </tr>\n",
       "    <tr>\n",
       "      <th>131</th>\n",
       "      <td>7.9</td>\n",
       "      <td>3.8</td>\n",
       "      <td>6.4</td>\n",
       "      <td>2.0</td>\n",
       "      <td>Virginica</td>\n",
       "    </tr>\n",
       "    <tr>\n",
       "      <th>132</th>\n",
       "      <td>6.4</td>\n",
       "      <td>2.8</td>\n",
       "      <td>5.6</td>\n",
       "      <td>2.2</td>\n",
       "      <td>Virginica</td>\n",
       "    </tr>\n",
       "    <tr>\n",
       "      <th>133</th>\n",
       "      <td>6.3</td>\n",
       "      <td>2.8</td>\n",
       "      <td>5.1</td>\n",
       "      <td>1.5</td>\n",
       "      <td>Virginica</td>\n",
       "    </tr>\n",
       "    <tr>\n",
       "      <th>134</th>\n",
       "      <td>6.1</td>\n",
       "      <td>2.6</td>\n",
       "      <td>5.6</td>\n",
       "      <td>1.4</td>\n",
       "      <td>Virginica</td>\n",
       "    </tr>\n",
       "    <tr>\n",
       "      <th>135</th>\n",
       "      <td>7.7</td>\n",
       "      <td>3.0</td>\n",
       "      <td>6.1</td>\n",
       "      <td>2.3</td>\n",
       "      <td>Virginica</td>\n",
       "    </tr>\n",
       "    <tr>\n",
       "      <th>136</th>\n",
       "      <td>6.3</td>\n",
       "      <td>3.4</td>\n",
       "      <td>5.6</td>\n",
       "      <td>2.4</td>\n",
       "      <td>Virginica</td>\n",
       "    </tr>\n",
       "    <tr>\n",
       "      <th>137</th>\n",
       "      <td>6.4</td>\n",
       "      <td>3.1</td>\n",
       "      <td>5.5</td>\n",
       "      <td>1.8</td>\n",
       "      <td>Virginica</td>\n",
       "    </tr>\n",
       "    <tr>\n",
       "      <th>138</th>\n",
       "      <td>6.0</td>\n",
       "      <td>3.0</td>\n",
       "      <td>4.8</td>\n",
       "      <td>1.8</td>\n",
       "      <td>Virginica</td>\n",
       "    </tr>\n",
       "    <tr>\n",
       "      <th>139</th>\n",
       "      <td>6.9</td>\n",
       "      <td>3.1</td>\n",
       "      <td>5.4</td>\n",
       "      <td>2.1</td>\n",
       "      <td>Virginica</td>\n",
       "    </tr>\n",
       "    <tr>\n",
       "      <th>140</th>\n",
       "      <td>6.7</td>\n",
       "      <td>3.1</td>\n",
       "      <td>5.6</td>\n",
       "      <td>2.4</td>\n",
       "      <td>Virginica</td>\n",
       "    </tr>\n",
       "    <tr>\n",
       "      <th>141</th>\n",
       "      <td>6.9</td>\n",
       "      <td>3.1</td>\n",
       "      <td>5.1</td>\n",
       "      <td>2.3</td>\n",
       "      <td>Virginica</td>\n",
       "    </tr>\n",
       "    <tr>\n",
       "      <th>143</th>\n",
       "      <td>6.8</td>\n",
       "      <td>3.2</td>\n",
       "      <td>5.9</td>\n",
       "      <td>2.3</td>\n",
       "      <td>Virginica</td>\n",
       "    </tr>\n",
       "    <tr>\n",
       "      <th>144</th>\n",
       "      <td>6.7</td>\n",
       "      <td>3.3</td>\n",
       "      <td>5.7</td>\n",
       "      <td>2.5</td>\n",
       "      <td>Virginica</td>\n",
       "    </tr>\n",
       "    <tr>\n",
       "      <th>145</th>\n",
       "      <td>6.7</td>\n",
       "      <td>3.0</td>\n",
       "      <td>5.2</td>\n",
       "      <td>2.3</td>\n",
       "      <td>Virginica</td>\n",
       "    </tr>\n",
       "    <tr>\n",
       "      <th>146</th>\n",
       "      <td>6.3</td>\n",
       "      <td>2.5</td>\n",
       "      <td>5.0</td>\n",
       "      <td>1.9</td>\n",
       "      <td>Virginica</td>\n",
       "    </tr>\n",
       "    <tr>\n",
       "      <th>147</th>\n",
       "      <td>6.5</td>\n",
       "      <td>3.0</td>\n",
       "      <td>5.2</td>\n",
       "      <td>2.0</td>\n",
       "      <td>Virginica</td>\n",
       "    </tr>\n",
       "    <tr>\n",
       "      <th>148</th>\n",
       "      <td>6.2</td>\n",
       "      <td>3.4</td>\n",
       "      <td>5.4</td>\n",
       "      <td>2.3</td>\n",
       "      <td>Virginica</td>\n",
       "    </tr>\n",
       "    <tr>\n",
       "      <th>149</th>\n",
       "      <td>5.9</td>\n",
       "      <td>3.0</td>\n",
       "      <td>5.1</td>\n",
       "      <td>1.8</td>\n",
       "      <td>Virginica</td>\n",
       "    </tr>\n",
       "  </tbody>\n",
       "</table>\n",
       "<p>149 rows × 5 columns</p>\n",
       "</div>"
      ],
      "text/plain": [
       "     sepal.length  sepal.width  petal.length  petal.width    variety\n",
       "0             5.1          3.5           1.4          0.2     Setosa\n",
       "1             4.9          3.0           1.4          0.2     Setosa\n",
       "2             4.7          3.2           1.3          0.2     Setosa\n",
       "3             4.6          3.1           1.5          0.2     Setosa\n",
       "4             5.0          3.6           1.4          0.2     Setosa\n",
       "5             5.4          3.9           1.7          0.4     Setosa\n",
       "6             4.6          3.4           1.4          0.3     Setosa\n",
       "7             5.0          3.4           1.5          0.2     Setosa\n",
       "8             4.4          2.9           1.4          0.2     Setosa\n",
       "9             4.9          3.1           1.5          0.1     Setosa\n",
       "10            5.4          3.7           1.5          0.2     Setosa\n",
       "11            4.8          3.4           1.6          0.2     Setosa\n",
       "12            4.8          3.0           1.4          0.1     Setosa\n",
       "13            4.3          3.0           1.1          0.1     Setosa\n",
       "14            5.8          4.0           1.2          0.2     Setosa\n",
       "15            5.7          4.4           1.5          0.4     Setosa\n",
       "16            5.4          3.9           1.3          0.4     Setosa\n",
       "17            5.1          3.5           1.4          0.3     Setosa\n",
       "18            5.7          3.8           1.7          0.3     Setosa\n",
       "19            5.1          3.8           1.5          0.3     Setosa\n",
       "20            5.4          3.4           1.7          0.2     Setosa\n",
       "21            5.1          3.7           1.5          0.4     Setosa\n",
       "22            4.6          3.6           1.0          0.2     Setosa\n",
       "23            5.1          3.3           1.7          0.5     Setosa\n",
       "24            4.8          3.4           1.9          0.2     Setosa\n",
       "25            5.0          3.0           1.6          0.2     Setosa\n",
       "26            5.0          3.4           1.6          0.4     Setosa\n",
       "27            5.2          3.5           1.5          0.2     Setosa\n",
       "28            5.2          3.4           1.4          0.2     Setosa\n",
       "29            4.7          3.2           1.6          0.2     Setosa\n",
       "..            ...          ...           ...          ...        ...\n",
       "119           6.0          2.2           5.0          1.5  Virginica\n",
       "120           6.9          3.2           5.7          2.3  Virginica\n",
       "121           5.6          2.8           4.9          2.0  Virginica\n",
       "122           7.7          2.8           6.7          2.0  Virginica\n",
       "123           6.3          2.7           4.9          1.8  Virginica\n",
       "124           6.7          3.3           5.7          2.1  Virginica\n",
       "125           7.2          3.2           6.0          1.8  Virginica\n",
       "126           6.2          2.8           4.8          1.8  Virginica\n",
       "127           6.1          3.0           4.9          1.8  Virginica\n",
       "128           6.4          2.8           5.6          2.1  Virginica\n",
       "129           7.2          3.0           5.8          1.6  Virginica\n",
       "130           7.4          2.8           6.1          1.9  Virginica\n",
       "131           7.9          3.8           6.4          2.0  Virginica\n",
       "132           6.4          2.8           5.6          2.2  Virginica\n",
       "133           6.3          2.8           5.1          1.5  Virginica\n",
       "134           6.1          2.6           5.6          1.4  Virginica\n",
       "135           7.7          3.0           6.1          2.3  Virginica\n",
       "136           6.3          3.4           5.6          2.4  Virginica\n",
       "137           6.4          3.1           5.5          1.8  Virginica\n",
       "138           6.0          3.0           4.8          1.8  Virginica\n",
       "139           6.9          3.1           5.4          2.1  Virginica\n",
       "140           6.7          3.1           5.6          2.4  Virginica\n",
       "141           6.9          3.1           5.1          2.3  Virginica\n",
       "143           6.8          3.2           5.9          2.3  Virginica\n",
       "144           6.7          3.3           5.7          2.5  Virginica\n",
       "145           6.7          3.0           5.2          2.3  Virginica\n",
       "146           6.3          2.5           5.0          1.9  Virginica\n",
       "147           6.5          3.0           5.2          2.0  Virginica\n",
       "148           6.2          3.4           5.4          2.3  Virginica\n",
       "149           5.9          3.0           5.1          1.8  Virginica\n",
       "\n",
       "[149 rows x 5 columns]"
      ]
     },
     "execution_count": 7,
     "metadata": {},
     "output_type": "execute_result"
    }
   ],
   "source": [
    "DF.drop_duplicates()"
   ]
  },
  {
   "cell_type": "markdown",
   "metadata": {},
   "source": [
    "# Correlations\n",
    "## df_name.corr() shows relationship between columns "
   ]
  },
  {
   "cell_type": "code",
   "execution_count": 8,
   "metadata": {},
   "outputs": [
    {
     "data": {
      "text/html": [
       "<div>\n",
       "<style scoped>\n",
       "    .dataframe tbody tr th:only-of-type {\n",
       "        vertical-align: middle;\n",
       "    }\n",
       "\n",
       "    .dataframe tbody tr th {\n",
       "        vertical-align: top;\n",
       "    }\n",
       "\n",
       "    .dataframe thead th {\n",
       "        text-align: right;\n",
       "    }\n",
       "</style>\n",
       "<table border=\"1\" class=\"dataframe\">\n",
       "  <thead>\n",
       "    <tr style=\"text-align: right;\">\n",
       "      <th></th>\n",
       "      <th>sepal.length</th>\n",
       "      <th>sepal.width</th>\n",
       "      <th>petal.length</th>\n",
       "      <th>petal.width</th>\n",
       "    </tr>\n",
       "  </thead>\n",
       "  <tbody>\n",
       "    <tr>\n",
       "      <th>sepal.length</th>\n",
       "      <td>1.000000</td>\n",
       "      <td>-0.117570</td>\n",
       "      <td>0.871754</td>\n",
       "      <td>0.817941</td>\n",
       "    </tr>\n",
       "    <tr>\n",
       "      <th>sepal.width</th>\n",
       "      <td>-0.117570</td>\n",
       "      <td>1.000000</td>\n",
       "      <td>-0.428440</td>\n",
       "      <td>-0.366126</td>\n",
       "    </tr>\n",
       "    <tr>\n",
       "      <th>petal.length</th>\n",
       "      <td>0.871754</td>\n",
       "      <td>-0.428440</td>\n",
       "      <td>1.000000</td>\n",
       "      <td>0.962865</td>\n",
       "    </tr>\n",
       "    <tr>\n",
       "      <th>petal.width</th>\n",
       "      <td>0.817941</td>\n",
       "      <td>-0.366126</td>\n",
       "      <td>0.962865</td>\n",
       "      <td>1.000000</td>\n",
       "    </tr>\n",
       "  </tbody>\n",
       "</table>\n",
       "</div>"
      ],
      "text/plain": [
       "              sepal.length  sepal.width  petal.length  petal.width\n",
       "sepal.length      1.000000    -0.117570      0.871754     0.817941\n",
       "sepal.width      -0.117570     1.000000     -0.428440    -0.366126\n",
       "petal.length      0.871754    -0.428440      1.000000     0.962865\n",
       "petal.width       0.817941    -0.366126      0.962865     1.000000"
      ]
     },
     "execution_count": 8,
     "metadata": {},
     "output_type": "execute_result"
    }
   ],
   "source": [
    "DF.corr()"
   ]
  },
  {
   "cell_type": "markdown",
   "metadata": {},
   "source": [
    "# Pandas Plotting\n",
    "## by plot() it takes kind,x,y arguments"
   ]
  },
  {
   "cell_type": "code",
   "execution_count": 10,
   "metadata": {},
   "outputs": [
    {
     "data": {
      "text/plain": [
       "<matplotlib.figure.Figure at 0x8b2ecf8>"
      ]
     },
     "metadata": {},
     "output_type": "display_data"
    }
   ],
   "source": [
    "import matplotlib.pyplot as plt \n",
    "DF.plot()\n",
    "plt.show()"
   ]
  },
  {
   "cell_type": "markdown",
   "metadata": {},
   "source": [
    "## Scatter Plot (kind=\"scatter)"
   ]
  },
  {
   "cell_type": "code",
   "execution_count": 13,
   "metadata": {},
   "outputs": [
    {
     "data": {
      "image/png": "[encoded data removed]",
      "text/plain": [
       "<matplotlib.figure.Figure at 0x8affe80>"
      ]
     },
     "metadata": {
      "needs_background": "light"
     },
     "output_type": "display_data"
    }
   ],
   "source": [
    "DF.plot(kind = \"Scatter\",x=\"sepal.length\",y = \"sepal.width\")\n",
    "plt.show()"
   ]
  },
  {
   "cell_type": "markdown",
   "metadata": {},
   "source": [
    "## Histogram"
   ]
  },
  {
   "cell_type": "code",
   "execution_count": 14,
   "metadata": {},
   "outputs": [
    {
     "data": {
      "text/plain": [
       "<matplotlib.axes._subplots.AxesSubplot at 0xa637668>"
      ]
     },
     "execution_count": 14,
     "metadata": {},
     "output_type": "execute_result"
    },
    {
     "data": {
      "image/png": "[encoded data removed]",
      "text/plain": [
       "<matplotlib.figure.Figure at 0xa290e80>"
      ]
     },
     "metadata": {
      "needs_background": "light"
     },
     "output_type": "display_data"
    }
   ],
   "source": [
    "DF[\"petal.length\"].plot(kind=\"hist\")"
   ]
  },
  {
   "cell_type": "markdown",
   "metadata": {},
   "source": [
    "## Inserting new columns in pandas dataframe \n",
    "There are 4 ways \n",
    "\n",
    "1 df.insert(n,\"new_col_name\",[values],True)\n",
    "\n",
    "2 df.assign(New_col_name=[Values])\n",
    "\n",
    "3 by dict or by list\n",
    "\n",
    "4 by df.loc[:,\"New_col_name]=dict/list_name"
   ]
  },
  {
   "cell_type": "code",
   "execution_count": 38,
   "metadata": {},
   "outputs": [
    {
     "name": "stdout",
     "output_type": "stream",
     "text": [
      "    Age Last_Names      Names  Marks\n",
      "1    20    Dehmukh  Vaishnavi     98\n",
      "2    21   Deshmukh     kalash     85\n",
      "3    21      Upase     Gaurav     80\n",
      "4    21    Dighade   Prasanna     80\n",
      "5    20     Sakhre       Yash     75\n",
      "6    20      Tayde       Yash     96\n",
      "7    21     Bhande   Giridhar     97\n",
      "8    20  Nandarwar     Lokesh     79\n",
      "9    21     Khande    Shivaji     74\n",
      "10   20       Kale    Prajwal     76\n",
      "11   22   Wankhade      Tejas     70\n"
     ]
    }
   ],
   "source": [
    "Friends={\n",
    "    \"Names\":[\"Vaishnavi\",\"kalash\",\"Gaurav\",\"Prasanna\",\"Yash\",\"Yash\",\"Giridhar\",\"Lokesh\",\"Shivaji\",\"Prajwal\",\"Tejas\"],\n",
    "    \"Last_Names\":[\"Dehmukh\",\"Deshmukh\",\"Upase\",\"Dighade\",\"Sakhre\",\"Tayde\",\"Bhande\",\"Nandarwar\",\"Khande\",\"Kale\",\"Wankhade\"],\n",
    "    \"Age\": [20,21,21,21,20,20,21,20,21,20,22]\n",
    "}\n",
    "\n",
    "#Load dataframe in dataframe objects\n",
    "df = pd.DataFrame(Friends,index=[1,2,3,4,5,6,7,8,9,10,11])\n",
    "\n",
    "#Adding column insert method\n",
    "df.insert(3,\"Marks\",[98,85,80,80,75,96,97,79,74,76,70],True)\n",
    "\n",
    "\n",
    "print(df)"
   ]
  },
  {
   "cell_type": "code",
   "execution_count": 34,
   "metadata": {},
   "outputs": [
    {
     "name": "stdout",
     "output_type": "stream",
     "text": [
      "    Age Last_Names      Names     address\n",
      "1    20    Dehmukh  Vaishnavi         amt\n",
      "2    21   Deshmukh     kalash         amt\n",
      "3    21      Upase     Gaurav       warud\n",
      "4    21    Dighade   Prasanna        pune\n",
      "5    20     Sakhre       Yash      mumbai\n",
      "6    20      Tayde       Yash      gondia\n",
      "7    21     Bhande   Giridhar        pune\n",
      "8    20  Nandarwar     Lokesh  jalalkheda\n",
      "9    21     Khande    Shivaji         amt\n",
      "10   20       Kale    Prajwal      aashti\n",
      "11   22   Wankhade      Tejas         amt\n"
     ]
    }
   ],
   "source": [
    "#Load dataframe in dataframe objects\n",
    "df = pd.DataFrame(Friends,index=[1,2,3,4,5,6,7,8,9,10,11])\n",
    "\n",
    "# adding column by assign method \n",
    "aa=df.assign(address=[\"amt\",\"amt\",\"warud\",\"pune\",\"mumbai\",\"gondia\",\"pune\",\"jalalkheda\",\"amt\",\"aashti\",\"amt\"])\n",
    "\n",
    "\n",
    "\n",
    "print(aa)\n"
   ]
  },
  {
   "cell_type": "code",
   "execution_count": 46,
   "metadata": {},
   "outputs": [
    {
     "name": "stdout",
     "output_type": "stream",
     "text": [
      "    Age Last_Names      Names     address Wrking_Address\n",
      "1    20    Dehmukh  Vaishnavi         amt      Barcelona\n",
      "2    21   Deshmukh     kalash         amt      Barcelona\n",
      "3    21      Upase     Gaurav       warud      Barcelona\n",
      "4    21    Dighade   Prasanna        pune   WashingtonDC\n",
      "5    20     Sakhre       Yash      mumbai         Mumbai\n",
      "6    20      Tayde       Yash      gondia         Mumbai\n",
      "7    21     Bhande   Giridhar        pune       Banglore\n",
      "8    20  Nandarwar     Lokesh  jalalkheda      Ahemdabad\n",
      "9    21     Khande    Shivaji         amt        Kashmir\n",
      "10   20       Kale    Prajwal      aashti      Ahemdabad\n",
      "11   22   Wankhade      Tejas         amt        Kolkata\n"
     ]
    }
   ],
   "source": [
    "# adding new column by list\n",
    "# Declare a list that is to be converted into a column\n",
    "address = ['Barcelona', 'Barcelona', 'Barcelona', 'WashingtonDC',\"Mumbai\",\"Mumbai\",\"Banglore\",\"Ahemdabad\",\"Kashmir\",\"Ahemdabad\",\"Kolkata\"]\n",
    " \n",
    "# dropping \n",
    "aa.drop([\"Address\", \"Working Address\"], axis = 1, inplace = True)\n",
    "\n",
    "# and equating it to the list\n",
    "aa['Wrking_Address'] = address\n",
    "print(aa)"
   ]
  },
  {
   "cell_type": "markdown",
   "metadata": {},
   "source": [
    "## Adding Multiple Columns "
   ]
  },
  {
   "cell_type": "code",
   "execution_count": 49,
   "metadata": {},
   "outputs": [
    {
     "name": "stdout",
     "output_type": "stream",
     "text": [
      "    Age Last_Names      Names     address Wrking_Address Father_name  \\\n",
      "1    20    Dehmukh  Vaishnavi         amt      Barcelona        Raju   \n",
      "2    21   Deshmukh     kalash         amt      Barcelona       Vijay   \n",
      "3    21      Upase     Gaurav       warud      Barcelona     Manohar   \n",
      "4    21    Dighade   Prasanna        pune   WashingtonDC         idk   \n",
      "5    20     Sakhre       Yash      mumbai         Mumbai         idk   \n",
      "6    20      Tayde       Yash      gondia         Mumbai       Manoj   \n",
      "7    21     Bhande   Giridhar        pune       Banglore         idk   \n",
      "8    20  Nandarwar     Lokesh  jalalkheda      Ahemdabad   Prabhakar   \n",
      "9    21     Khande    Shivaji         amt        Kashmir           R   \n",
      "10   20       Kale    Prajwal      aashti      Ahemdabad       Dilip   \n",
      "11   22   Wankhade      Tejas         amt        Kolkata         idk   \n",
      "\n",
      "      Feild of working  \n",
      "1             Engineer  \n",
      "2             Buisness  \n",
      "3             Business  \n",
      "4   Interior_desgining  \n",
      "5         Architecture  \n",
      "6               Doctor  \n",
      "7             Engineer  \n",
      "8             Engineer  \n",
      "9              Soldier  \n",
      "10            Engineer  \n",
      "11              Doctor  \n"
     ]
    }
   ],
   "source": [
    "Feild=[\"Engineer\",\"Buisness\",\"Business\",\"Interior_desgining\",\"Architecture\",\"Doctor\",\"Engineer\",\"Engineer\",\"Soldier\",\"Engineer\",\"Doctor\",]\n",
    "Father_name=[\"Raju\",\"Vijay\",\"Manohar\",\"idk\",\"idk\",\"Manoj\",\"idk\",\"Prabhakar\",\"R\",\"Dilip\",\"idk\"]\n",
    "\n",
    "#loading\n",
    "Var = {\"Feild of working\":Feild,\"Father_name\":Father_name}\n",
    "aa = aa.assign(**Var)\n",
    "print(aa)"
   ]
  },
  {
   "cell_type": "markdown",
   "metadata": {},
   "source": [
    "## inserting new rows in dataframe"
   ]
  },
  {
   "cell_type": "markdown",
   "metadata": {},
   "source": [
    "## 1. by loc"
   ]
  },
  {
   "cell_type": "code",
   "execution_count": 51,
   "metadata": {},
   "outputs": [
    {
     "name": "stdout",
     "output_type": "stream",
     "text": [
      "    Age Last_Names      Names        address Wrking_Address    Father_name  \\\n",
      "1    20    Dehmukh  Vaishnavi            amt      Barcelona           Raju   \n",
      "2    21   Deshmukh     kalash            amt      Barcelona          Vijay   \n",
      "3    21      Upase     Gaurav          warud      Barcelona        Manohar   \n",
      "4    21    Dighade   Prasanna           pune   WashingtonDC            idk   \n",
      "5    20     Sakhre       Yash         mumbai         Mumbai            idk   \n",
      "6    20      Tayde       Yash         gondia         Mumbai          Manoj   \n",
      "7    21     Bhande   Giridhar           pune       Banglore            idk   \n",
      "8    20  Nandarwar     Lokesh     jalalkheda      Ahemdabad      Prabhakar   \n",
      "9    21     Khande    Shivaji            amt        Kashmir              R   \n",
      "10   20       Kale    Prajwal         aashti      Ahemdabad          Dilip   \n",
      "11   23      Londe       daya  Chandur_bajar          surat  surendrapanta   \n",
      "\n",
      "      Feild of working  \n",
      "1             Engineer  \n",
      "2             Buisness  \n",
      "3             Business  \n",
      "4   Interior_desgining  \n",
      "5         Architecture  \n",
      "6               Doctor  \n",
      "7             Engineer  \n",
      "8             Engineer  \n",
      "9              Soldier  \n",
      "10            Engineer  \n",
      "11            engineer  \n"
     ]
    }
   ],
   "source": [
    "aa.loc[len(aa.index)]= [23,\"Londe\",\"daya\",\"Chandur_bajar\",\"surat\",\"surendrapanta\",\"engineer\"]\n",
    "print(aa)"
   ]
  },
  {
   "cell_type": "markdown",
   "metadata": {},
   "source": [
    "## 2.apped()"
   ]
  },
  {
   "cell_type": "code",
   "execution_count": 54,
   "metadata": {},
   "outputs": [
    {
     "name": "stdout",
     "output_type": "stream",
     "text": [
      "    Age Last_Names      Names        address Wrking_Address    Father_name  \\\n",
      "0    20    Dehmukh  Vaishnavi            amt      Barcelona           Raju   \n",
      "1    21   Deshmukh     kalash            amt      Barcelona          Vijay   \n",
      "2    21      Upase     Gaurav          warud      Barcelona        Manohar   \n",
      "3    21    Dighade   Prasanna           pune   WashingtonDC            idk   \n",
      "4    20     Sakhre       Yash         mumbai         Mumbai            idk   \n",
      "5    20      Tayde       Yash         gondia         Mumbai          Manoj   \n",
      "6    21     Bhande   Giridhar           pune       Banglore            idk   \n",
      "7    20  Nandarwar     Lokesh     jalalkheda      Ahemdabad      Prabhakar   \n",
      "8    21     Khande    Shivaji            amt        Kashmir              R   \n",
      "9    20       Kale    Prajwal         aashti      Ahemdabad          Dilip   \n",
      "10   23      Londe       daya  Chandur_bajar          surat  surendrapanta   \n",
      "11   21      Harle     Samyak          jarud      Heydrabad        Kishore   \n",
      "\n",
      "      Feild of working  \n",
      "0             Engineer  \n",
      "1             Buisness  \n",
      "2             Business  \n",
      "3   Interior_desgining  \n",
      "4         Architecture  \n",
      "5               Doctor  \n",
      "6             Engineer  \n",
      "7             Engineer  \n",
      "8              Soldier  \n",
      "9             Engineer  \n",
      "10            engineer  \n",
      "11            Engineer  \n"
     ]
    }
   ],
   "source": [
    "dicti={\"Age\":21,\"Last_Names\":\"Harle\",\"Names\":\"Samyak\",\"address\":\"jarud\",\"Wrking_Address\":\"Heydrabad\",\"Father_name\":\"Kishore\",\"Feild of working\":\"Engineer\"}\n",
    "bb=aa.append(dicti,ignore_index=True)\n",
    "print(bb)"
   ]
  },
  {
   "cell_type": "markdown",
   "metadata": {},
   "source": [
    "## Deleting rows \n"
   ]
  },
  {
   "cell_type": "code",
   "execution_count": null,
   "metadata": {},
   "outputs": [],
   "source": [
    "bb.drop([\"Londe\"],inplace=True)"
   ]
  },
  {
   "cell_type": "markdown",
   "metadata": {},
   "source": [
    "## Deleting columns"
   ]
  },
  {
   "cell_type": "code",
   "execution_count": 66,
   "metadata": {},
   "outputs": [
    {
     "name": "stdout",
     "output_type": "stream",
     "text": [
      "'address' column does not exist.\n",
      "    Age Last_Names      Names Wrking_Address    Father_name  \\\n",
      "0    20    Dehmukh  Vaishnavi      Barcelona           Raju   \n",
      "1    21   Deshmukh     kalash      Barcelona          Vijay   \n",
      "2    21      Upase     Gaurav      Barcelona        Manohar   \n",
      "3    21    Dighade   Prasanna   WashingtonDC            idk   \n",
      "4    20     Sakhre       Yash         Mumbai            idk   \n",
      "5    20      Tayde       Yash         Mumbai          Manoj   \n",
      "6    21     Bhande   Giridhar       Banglore            idk   \n",
      "7    20  Nandarwar     Lokesh      Ahemdabad      Prabhakar   \n",
      "8    21     Khande    Shivaji        Kashmir              R   \n",
      "9    20       Kale    Prajwal      Ahemdabad          Dilip   \n",
      "10   23      Londe       daya          surat  surendrapanta   \n",
      "11   21      Harle     Samyak      Heydrabad        Kishore   \n",
      "\n",
      "      Feild of working  \n",
      "0             Engineer  \n",
      "1             Buisness  \n",
      "2             Business  \n",
      "3   Interior_desgining  \n",
      "4         Architecture  \n",
      "5               Doctor  \n",
      "6             Engineer  \n",
      "7             Engineer  \n",
      "8              Soldier  \n",
      "9             Engineer  \n",
      "10            engineer  \n",
      "11            Engineer  \n"
     ]
    }
   ],
   "source": [
    "if 'address' in bb.columns:\n",
    "    bb.drop([\"address\"], axis=1, inplace=True)\n",
    "else:\n",
    "    print(\"'address' column does not exist.\")\n",
    "\n",
    "print(bb)"
   ]
  },
  {
   "cell_type": "markdown",
   "metadata": {},
   "source": [
    "## iterating each item \n"
   ]
  },
  {
   "cell_type": "markdown",
   "metadata": {},
   "source": [
    "## by iterrows"
   ]
  },
  {
   "cell_type": "code",
   "execution_count": 74,
   "metadata": {},
   "outputs": [
    {
     "name": "stdout",
     "output_type": "stream",
     "text": [
      "(0, Age                        20\n",
      "Last_Names            Dehmukh\n",
      "Names               Vaishnavi\n",
      "Wrking_Address      Barcelona\n",
      "Father_name              Raju\n",
      "Feild of working     Engineer\n",
      "Name: 0, dtype: object)\n",
      "\n",
      "(1, Age                        21\n",
      "Last_Names           Deshmukh\n",
      "Names                  kalash\n",
      "Wrking_Address      Barcelona\n",
      "Father_name             Vijay\n",
      "Feild of working     Buisness\n",
      "Name: 1, dtype: object)\n",
      "\n",
      "(2, Age                        21\n",
      "Last_Names              Upase\n",
      "Names                  Gaurav\n",
      "Wrking_Address      Barcelona\n",
      "Father_name           Manohar\n",
      "Feild of working     Business\n",
      "Name: 2, dtype: object)\n",
      "\n",
      "(3, Age                                 21\n",
      "Last_Names                     Dighade\n",
      "Names                         Prasanna\n",
      "Wrking_Address            WashingtonDC\n",
      "Father_name                        idk\n",
      "Feild of working    Interior_desgining\n",
      "Name: 3, dtype: object)\n",
      "\n",
      "(4, Age                           20\n",
      "Last_Names                Sakhre\n",
      "Names                       Yash\n",
      "Wrking_Address            Mumbai\n",
      "Father_name                  idk\n",
      "Feild of working    Architecture\n",
      "Name: 4, dtype: object)\n",
      "\n",
      "(5, Age                     20\n",
      "Last_Names           Tayde\n",
      "Names                 Yash\n",
      "Wrking_Address      Mumbai\n",
      "Father_name          Manoj\n",
      "Feild of working    Doctor\n",
      "Name: 5, dtype: object)\n",
      "\n",
      "(6, Age                       21\n",
      "Last_Names            Bhande\n",
      "Names               Giridhar\n",
      "Wrking_Address      Banglore\n",
      "Father_name              idk\n",
      "Feild of working    Engineer\n",
      "Name: 6, dtype: object)\n",
      "\n",
      "(7, Age                        20\n",
      "Last_Names          Nandarwar\n",
      "Names                  Lokesh\n",
      "Wrking_Address      Ahemdabad\n",
      "Father_name         Prabhakar\n",
      "Feild of working     Engineer\n",
      "Name: 7, dtype: object)\n",
      "\n",
      "(8, Age                      21\n",
      "Last_Names           Khande\n",
      "Names               Shivaji\n",
      "Wrking_Address      Kashmir\n",
      "Father_name               R\n",
      "Feild of working    Soldier\n",
      "Name: 8, dtype: object)\n",
      "\n",
      "(9, Age                        20\n",
      "Last_Names               Kale\n",
      "Names                 Prajwal\n",
      "Wrking_Address      Ahemdabad\n",
      "Father_name             Dilip\n",
      "Feild of working     Engineer\n",
      "Name: 9, dtype: object)\n",
      "\n",
      "(10, Age                            23\n",
      "Last_Names                  Londe\n",
      "Names                        daya\n",
      "Wrking_Address              surat\n",
      "Father_name         surendrapanta\n",
      "Feild of working         engineer\n",
      "Name: 10, dtype: object)\n",
      "\n",
      "(11, Age                        21\n",
      "Last_Names              Harle\n",
      "Names                  Samyak\n",
      "Wrking_Address      Heydrabad\n",
      "Father_name           Kishore\n",
      "Feild of working     Engineer\n",
      "Name: 11, dtype: object)\n",
      "\n"
     ]
    }
   ],
   "source": [
    "for i,j in bb.iterrows():\n",
    "    print(i,j)\n",
    "    print"
   ]
  },
  {
   "cell_type": "markdown",
   "metadata": {},
   "source": [
    "## by iteritmes"
   ]
  },
  {
   "cell_type": "code",
   "execution_count": 78,
   "metadata": {},
   "outputs": [
    {
     "name": "stdout",
     "output_type": "stream",
     "text": [
      "('Age', 0     20\n",
      "1     21\n",
      "2     21\n",
      "3     21\n",
      "4     20\n",
      "5     20\n",
      "6     21\n",
      "7     20\n",
      "8     21\n",
      "9     20\n",
      "10    23\n",
      "11    21\n",
      "Name: Age, dtype: int64)\n",
      "\n",
      "('Last_Names', 0       Dehmukh\n",
      "1      Deshmukh\n",
      "2         Upase\n",
      "3       Dighade\n",
      "4        Sakhre\n",
      "5         Tayde\n",
      "6        Bhande\n",
      "7     Nandarwar\n",
      "8        Khande\n",
      "9          Kale\n",
      "10        Londe\n",
      "11        Harle\n",
      "Name: Last_Names, dtype: object)\n",
      "\n",
      "('Names', 0     Vaishnavi\n",
      "1        kalash\n",
      "2        Gaurav\n",
      "3      Prasanna\n",
      "4          Yash\n",
      "5          Yash\n",
      "6      Giridhar\n",
      "7        Lokesh\n",
      "8       Shivaji\n",
      "9       Prajwal\n",
      "10         daya\n",
      "11       Samyak\n",
      "Name: Names, dtype: object)\n",
      "\n",
      "('Wrking_Address', 0        Barcelona\n",
      "1        Barcelona\n",
      "2        Barcelona\n",
      "3     WashingtonDC\n",
      "4           Mumbai\n",
      "5           Mumbai\n",
      "6         Banglore\n",
      "7        Ahemdabad\n",
      "8          Kashmir\n",
      "9        Ahemdabad\n",
      "10           surat\n",
      "11       Heydrabad\n",
      "Name: Wrking_Address, dtype: object)\n",
      "\n",
      "('Father_name', 0              Raju\n",
      "1             Vijay\n",
      "2           Manohar\n",
      "3               idk\n",
      "4               idk\n",
      "5             Manoj\n",
      "6               idk\n",
      "7         Prabhakar\n",
      "8                 R\n",
      "9             Dilip\n",
      "10    surendrapanta\n",
      "11          Kishore\n",
      "Name: Father_name, dtype: object)\n",
      "\n",
      "('Feild of working', 0               Engineer\n",
      "1               Buisness\n",
      "2               Business\n",
      "3     Interior_desgining\n",
      "4           Architecture\n",
      "5                 Doctor\n",
      "6               Engineer\n",
      "7               Engineer\n",
      "8                Soldier\n",
      "9               Engineer\n",
      "10              engineer\n",
      "11              Engineer\n",
      "Name: Feild of working, dtype: object)\n",
      "\n"
     ]
    }
   ],
   "source": [
    "for key,value in bb.iteritems():\n",
    "    print(key,value)\n",
    "    print"
   ]
  },
  {
   "cell_type": "markdown",
   "metadata": {},
   "source": [
    "## by itertuples"
   ]
  },
  {
   "cell_type": "code",
   "execution_count": 79,
   "metadata": {},
   "outputs": [
    {
     "name": "stdout",
     "output_type": "stream",
     "text": [
      "Pandas(Index=0, Age=20L, Last_Names='Dehmukh', Names='Vaishnavi', Wrking_Address='Barcelona', Father_name='Raju', _6='Engineer')\n",
      "\n",
      "Pandas(Index=1, Age=21L, Last_Names='Deshmukh', Names='kalash', Wrking_Address='Barcelona', Father_name='Vijay', _6='Buisness')\n",
      "\n",
      "Pandas(Index=2, Age=21L, Last_Names='Upase', Names='Gaurav', Wrking_Address='Barcelona', Father_name='Manohar', _6='Business')\n",
      "\n",
      "Pandas(Index=3, Age=21L, Last_Names='Dighade', Names='Prasanna', Wrking_Address='WashingtonDC', Father_name='idk', _6='Interior_desgining')\n",
      "\n",
      "Pandas(Index=4, Age=20L, Last_Names='Sakhre', Names='Yash', Wrking_Address='Mumbai', Father_name='idk', _6='Architecture')\n",
      "\n",
      "Pandas(Index=5, Age=20L, Last_Names='Tayde', Names='Yash', Wrking_Address='Mumbai', Father_name='Manoj', _6='Doctor')\n",
      "\n",
      "Pandas(Index=6, Age=21L, Last_Names='Bhande', Names='Giridhar', Wrking_Address='Banglore', Father_name='idk', _6='Engineer')\n",
      "\n",
      "Pandas(Index=7, Age=20L, Last_Names='Nandarwar', Names='Lokesh', Wrking_Address='Ahemdabad', Father_name='Prabhakar', _6='Engineer')\n",
      "\n",
      "Pandas(Index=8, Age=21L, Last_Names='Khande', Names='Shivaji', Wrking_Address='Kashmir', Father_name='R', _6='Soldier')\n",
      "\n",
      "Pandas(Index=9, Age=20L, Last_Names='Kale', Names='Prajwal', Wrking_Address='Ahemdabad', Father_name='Dilip', _6='Engineer')\n",
      "\n",
      "Pandas(Index=10, Age=23L, Last_Names='Londe', Names='daya', Wrking_Address='surat', Father_name='surendrapanta', _6='engineer')\n",
      "\n",
      "Pandas(Index=11, Age=21L, Last_Names='Harle', Names='Samyak', Wrking_Address='Heydrabad', Father_name='Kishore', _6='Engineer')\n",
      "\n"
     ]
    }
   ],
   "source": [
    "for i in bb.itertuples():\n",
    "    print(i)\n",
    "    print"
   ]
  },
  {
   "cell_type": "markdown",
   "metadata": {},
   "source": [
    "## BY columns"
   ]
  },
  {
   "cell_type": "code",
   "execution_count": 93,
   "metadata": {},
   "outputs": [
    {
     "name": "stdout",
     "output_type": "stream",
     "text": [
      "21\n",
      "Deshmukh\n",
      "kalash\n",
      "Barcelona\n",
      "Vijay\n",
      "Buisness\n"
     ]
    }
   ],
   "source": [
    "for x in bb.columns :\n",
    "    print(bb[x][1])"
   ]
  },
  {
   "cell_type": "markdown",
   "metadata": {},
   "source": [
    "## Sorting data frames\n",
    "\n",
    "## syntax:\n",
    "\n",
    "Dataframe.sort_values(by,axis=0 or 1,ascending=boolean,inplace=boolean,kind=\"qicksort or mergesort or heapsort\",na_position=\"first or last\")"
   ]
  },
  {
   "cell_type": "code",
   "execution_count": null,
   "metadata": {},
   "outputs": [],
   "source": [
    "bb.sort_vlaues(\"Names\",axis=1,ascending=True,inplace=False,kind=\"quicksort\",na_position=\"first\")"
   ]
  },
  {
   "cell_type": "code",
   "execution_count": 97,
   "metadata": {},
   "outputs": [
    {
     "name": "stdout",
     "output_type": "stream",
     "text": [
      "    Age Last_Names      Names Wrking_Address    Father_name  \\\n",
      "0    20    Dehmukh  Vaishnavi      Barcelona           Raju   \n",
      "1    21   Deshmukh     kalash      Barcelona          Vijay   \n",
      "2    21      Upase     Gaurav      Barcelona        Manohar   \n",
      "3    21    Dighade   Prasanna   WashingtonDC            idk   \n",
      "4    20     Sakhre       Yash         Mumbai            idk   \n",
      "5    20      Tayde       Yash         Mumbai          Manoj   \n",
      "6    21     Bhande   Giridhar       Banglore            idk   \n",
      "7    20  Nandarwar     Lokesh      Ahemdabad      Prabhakar   \n",
      "8    21     Khande    Shivaji        Kashmir              R   \n",
      "9    20       Kale    Prajwal      Ahemdabad          Dilip   \n",
      "10   23      Londe       daya          surat  surendrapanta   \n",
      "11   21      Harle     Samyak      Heydrabad        Kishore   \n",
      "\n",
      "      Feild of working  \n",
      "0             Engineer  \n",
      "1             Buisness  \n",
      "2             Business  \n",
      "3   Interior_desgining  \n",
      "4         Architecture  \n",
      "5               Doctor  \n",
      "6             Engineer  \n",
      "7             Engineer  \n",
      "8              Soldier  \n",
      "9             Engineer  \n",
      "10            engineer  \n",
      "11            Engineer  \n"
     ]
    }
   ],
   "source": [
    "print(bb)"
   ]
  },
  {
   "cell_type": "code",
   "execution_count": 101,
   "metadata": {},
   "outputs": [
    {
     "name": "stdout",
     "output_type": "stream",
     "text": [
      "{20L: Int64Index([0, 4, 5, 7, 9], dtype='int64'), 21L: Int64Index([1, 2, 3, 6, 8, 11], dtype='int64'), 23L: Int64Index([10], dtype='int64')}\n"
     ]
    }
   ],
   "source": [
    "bb.groupby(\"Age\")\n",
    "print(bb.groupby(\"Age\").groups)"
   ]
  },
  {
   "cell_type": "code",
   "execution_count": null,
   "metadata": {},
   "outputs": [],
   "source": []
  }
 ],
 "metadata": {
  "kernelspec": {
   "display_name": "Python 2",
   "language": "python",
   "name": "python2"
  },
  "language_info": {
   "codemirror_mode": {
    "name": "ipython",
    "version": 2
   },
   "file_extension": ".py",
   "mimetype": "text/x-python",
   "name": "python",
   "nbconvert_exporter": "python",
   "pygments_lexer": "ipython2",
   "version": "2.7.14"
  }
 },
 "nbformat": 4,
 "nbformat_minor": 2
}
